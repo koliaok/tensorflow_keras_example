{
 "cells": [
  {
   "cell_type": "code",
   "execution_count": 1,
   "metadata": {},
   "outputs": [],
   "source": [
    "#System path 등록\n",
    "import sys\n",
    "sys.path.insert(0, '../../tensorflow_keras_example')\n"
   ]
  },
  {
   "cell_type": "code",
   "execution_count": 2,
   "metadata": {
    "pycharm": {
     "name": "#%%\n"
    }
   },
   "outputs": [
    {
     "name": "stderr",
     "output_type": "stream",
     "text": [
      "/Users/kimhyungrak/anaconda3/lib/python3.7/site-packages/tensorflow/python/framework/dtypes.py:526: FutureWarning: Passing (type, 1) or '1type' as a synonym of type is deprecated; in a future version of numpy, it will be understood as (type, (1,)) / '(1,)type'.\n",
      "  _np_qint8 = np.dtype([(\"qint8\", np.int8, 1)])\n",
      "/Users/kimhyungrak/anaconda3/lib/python3.7/site-packages/tensorflow/python/framework/dtypes.py:527: FutureWarning: Passing (type, 1) or '1type' as a synonym of type is deprecated; in a future version of numpy, it will be understood as (type, (1,)) / '(1,)type'.\n",
      "  _np_quint8 = np.dtype([(\"quint8\", np.uint8, 1)])\n",
      "/Users/kimhyungrak/anaconda3/lib/python3.7/site-packages/tensorflow/python/framework/dtypes.py:528: FutureWarning: Passing (type, 1) or '1type' as a synonym of type is deprecated; in a future version of numpy, it will be understood as (type, (1,)) / '(1,)type'.\n",
      "  _np_qint16 = np.dtype([(\"qint16\", np.int16, 1)])\n",
      "/Users/kimhyungrak/anaconda3/lib/python3.7/site-packages/tensorflow/python/framework/dtypes.py:529: FutureWarning: Passing (type, 1) or '1type' as a synonym of type is deprecated; in a future version of numpy, it will be understood as (type, (1,)) / '(1,)type'.\n",
      "  _np_quint16 = np.dtype([(\"quint16\", np.uint16, 1)])\n",
      "/Users/kimhyungrak/anaconda3/lib/python3.7/site-packages/tensorflow/python/framework/dtypes.py:530: FutureWarning: Passing (type, 1) or '1type' as a synonym of type is deprecated; in a future version of numpy, it will be understood as (type, (1,)) / '(1,)type'.\n",
      "  _np_qint32 = np.dtype([(\"qint32\", np.int32, 1)])\n",
      "/Users/kimhyungrak/anaconda3/lib/python3.7/site-packages/tensorflow/python/framework/dtypes.py:535: FutureWarning: Passing (type, 1) or '1type' as a synonym of type is deprecated; in a future version of numpy, it will be understood as (type, (1,)) / '(1,)type'.\n",
      "  np_resource = np.dtype([(\"resource\", np.ubyte, 1)])\n"
     ]
    },
    {
     "name": "stdout",
     "output_type": "stream",
     "text": [
      "Already exists: ./datasets/text8/text8.zip\n"
     ]
    },
    {
     "data": {
      "text/plain": [
       "(array([   8,  497,    7, ..., 1336,    2, 1066]), None, None)"
      ]
     },
     "execution_count": 2,
     "metadata": {},
     "output_type": "execute_result"
    }
   ],
   "source": [
    "from datasetslib.text8 import Text8\n",
    "text8 = Text8()\n",
    "# downloads data, converts words to ids, converts files to a list of ids\n",
    "text8.load_data(clip_at=5000)"
   ]
  },
  {
   "cell_type": "code",
   "execution_count": 3,
   "metadata": {},
   "outputs": [
    {
     "data": {
      "text/plain": [
       "['contemporary', 'set', 'advocates', 'n', 'male']"
      ]
     },
     "execution_count": 3,
     "metadata": {},
     "output_type": "execute_result"
    }
   ],
   "source": [
    "#test_data 생성\n",
    "import numpy as np\n",
    "n_x = 5\n",
    "n_y = 1\n",
    "random_data5 = np.random.choice(n_x*100, n_x, replace=False).copy()\n",
    "[text8.id2word[data_idx] for data_idx in random_data5]\n"
   ]
  },
  {
   "cell_type": "code",
   "execution_count": 5,
   "metadata": {
    "pycharm": {
     "name": "#%%\n"
    }
   },
   "outputs": [],
   "source": [
    "#model variable setup\n",
    "import tensorflow as tf\n",
    "tf.compat.v1.disable_eager_execution()\n",
    "batch_size = 128\n",
    "hidden_size = 128\n",
    "total_result = text8.vocab_len\n",
    "learning_rate = 0.001\n",
    "\n",
    "x_in = tf.compat.v1.placeholder(dtype=tf.float32, shape=[batch_size, n_x, 1])\n",
    "y_in = tf.compat.v1.placeholder(dtype=tf.float32, shape=[batch_size, total_result])\n",
    "\n",
    "x_input_data = tf.unstack(x_in, axis=1)"
   ]
  },
  {
   "cell_type": "code",
   "execution_count": 6,
   "metadata": {},
   "outputs": [
    {
     "name": "stdout",
     "output_type": "stream",
     "text": [
      "WARNING:tensorflow:From <ipython-input-6-6d9d13bb705c>:10: BasicLSTMCell.__init__ (from tensorflow.python.ops.rnn_cell_impl) is deprecated and will be removed in a future version.\n",
      "Instructions for updating:\n",
      "This class is equivalent as tf.keras.layers.LSTMCell, and will be replaced by that in Tensorflow 2.0.\n",
      "WARNING:tensorflow:From <ipython-input-6-6d9d13bb705c>:19: MultiRNNCell.__init__ (from tensorflow.python.ops.rnn_cell_impl) is deprecated and will be removed in a future version.\n",
      "Instructions for updating:\n",
      "This class is equivalent as tf.keras.layers.StackedRNNCells, and will be replaced by that in Tensorflow 2.0.\n",
      "WARNING:tensorflow:From <ipython-input-6-6d9d13bb705c>:21: dynamic_rnn (from tensorflow.python.ops.rnn) is deprecated and will be removed in a future version.\n",
      "Instructions for updating:\n",
      "Please use `keras.layers.RNN(cell)`, which is equivalent to this API\n",
      "WARNING:tensorflow:From /Users/kimhyungrak/anaconda3/lib/python3.7/site-packages/tensorflow/python/ops/tensor_array_ops.py:162: colocate_with (from tensorflow.python.framework.ops) is deprecated and will be removed in a future version.\n",
      "Instructions for updating:\n",
      "Colocations handled automatically by placer.\n"
     ]
    },
    {
     "data": {
      "text/plain": [
       "<tf.Tensor 'rnn/transpose_1:0' shape=(128, 5, 128) dtype=float32>"
      ]
     },
     "execution_count": 6,
     "metadata": {},
     "output_type": "execute_result"
    }
   ],
   "source": [
    "#LSTM model structure define \n",
    "\n",
    "network_mode = 'multi'\n",
    "use_dropout = False\n",
    "number_layer =  2\n",
    "keep_prob_ = 0.1\n",
    "if network_mode == 'multi':    \n",
    "    def create_rnn_cell():\n",
    "        cell = tf.compat.v1.nn.rnn_cell.BasicLSTMCell(num_units = hidden_size,\n",
    "                                            state_is_tuple = True)\n",
    "        return cell\n",
    "    #drop out 추가\n",
    "    if use_dropout:\n",
    "        drops = [tf.compat.v1.nn.rnn_cell.DropoutWrapper(lstm, output_keep_prob=keep_prob_) \n",
    "                 for lstm in [create_rnn_cell()for _ in range(number_layer)]]\n",
    "    else:\n",
    "        drops = [create_rnn_cell()for _ in range(number_layer)]\n",
    "    #Multi cell 추가 \n",
    "    multi_cells = tf.compat.v1.nn.rnn_cell.MultiRNNCell(drops, state_is_tuple=True)\n",
    "    \n",
    "    lstm_out, last_state = tf.compat.v1.nn.dynamic_rnn(multi_cells, x_in, dtype=tf.float32)\n",
    "    lstm_out_data = tf.unstack(lstm_out, axis=1)[-1]\n",
    "else:\n",
    "    lstm_cell = tf.compat.v1.nn.rnn_cell.BasicLSTMCell(num_units=hidden_size)\n",
    "    lstm_out, last_state = tf.compat.v1.nn.static_rnn(lstm_cell, x_input_data, dtype=tf.float32)\n",
    "    lstm_out_data = lstm_out[-1]\n",
    "lstm_out"
   ]
  },
  {
   "cell_type": "code",
   "execution_count": 7,
   "metadata": {},
   "outputs": [],
   "source": [
    "\n",
    "#logit calculation and define loss and optimizer\n",
    "w = tf.compat.v1.get_variable(dtype=tf.float32, \n",
    "                              shape=[hidden_size, total_result], \n",
    "                              initializer=tf.random_normal_initializer(), \n",
    "                              name='input_weight')\n",
    "\n",
    "b = tf.compat.v1.get_variable(dtype=tf.float32, shape=[total_result], name='input_bias')\n",
    "\n",
    "logits =  tf.matmul(lstm_out_data, w) + b\n",
    "loss = tf.compat.v1.reduce_mean(tf.compat.v1.nn.softmax_cross_entropy_with_logits_v2(logits=logits, labels=y_in))\n",
    "optimizer = tf.compat.v1.train.AdamOptimizer(learning_rate=learning_rate).minimize(loss)\n",
    "# accuracy code \n",
    "\n",
    "accuracy_score = tf.compat.v1.reduce_mean(\n",
    "    tf.cast(tf.equal(tf.argmax(logits,axis=1), tf.argmax(y_in, axis=1)), dtype=tf.float32))"
   ]
  },
  {
   "cell_type": "code",
   "execution_count": null,
   "metadata": {},
   "outputs": [
    {
     "name": "stdout",
     "output_type": "stream",
     "text": [
      "epoch:1000........... epoch loss : 0.46109799047311145 ...... epoch accuracy : 0.9309895833333334\n",
      "epoch:1000........... epoch loss : 0.3340711084504922 ...... epoch accuracy : 0.9537760416666666\n"
     ]
    }
   ],
   "source": [
    "#excution\n",
    "from datasetslib import util as dsu\n",
    "from datasetslib import nputil\n",
    "\n",
    "text8.reset_index()\n",
    "n_batches = text8.n_batches_seq(n_tx=n_x, n_ty=n_y)\n",
    "\n",
    "n_epochs = 1000\n",
    "n_epochs_display=100\n",
    "\n",
    "with tf.compat.v1.Session() as sess:\n",
    "    tf.compat.v1.global_variables_initializer().run()\n",
    "    \n",
    "    for epoch in range(n_epochs):\n",
    "        epoch_loss = 0\n",
    "        epoch_accuracy = 0\n",
    "        for i in range(n_batches):\n",
    "            x_batch, y_batch = text8.next_batch_seq(n_tx=n_x,n_ty=n_y)\n",
    "            y_batch = nputil.to2d(y_batch, unit_axis=1)\n",
    "            y_onehot = np.zeros(shape=[batch_size, text8.vocab_len],dtype=np.float32)\n",
    "            for i in range(batch_size):\n",
    "                y_onehot[i, y_batch[i]] =1\n",
    "\n",
    "            _, batch_accuracy, batch_loss = sess.run([optimizer, accuracy_score, loss], \n",
    "                                                     feed_dict={x_in: x_batch.reshape(-1, n_x, 1), y_in: y_onehot})\n",
    "            epoch_loss += batch_loss\n",
    "            epoch_accuracy += batch_accuracy\n",
    "            \n",
    "        if (epoch+1)%n_epochs_display==0:\n",
    "            print(f'epoch:{n_epochs}........... epoch loss : {epoch_loss/n_batches} ...... epoch accuracy : {epoch_accuracy/n_batches}')\n",
    "            \n",
    "    "
   ]
  },
  {
   "cell_type": "code",
   "execution_count": null,
   "metadata": {},
   "outputs": [],
   "source": []
  },
  {
   "cell_type": "code",
   "execution_count": null,
   "metadata": {},
   "outputs": [],
   "source": []
  }
 ],
 "metadata": {
  "kernelspec": {
   "display_name": "Python 3",
   "language": "python",
   "name": "python3"
  },
  "language_info": {
   "codemirror_mode": {
    "name": "ipython",
    "version": 3
   },
   "file_extension": ".py",
   "mimetype": "text/x-python",
   "name": "python",
   "nbconvert_exporter": "python",
   "pygments_lexer": "ipython3",
   "version": "3.7.3"
  },
  "pycharm": {
   "stem_cell": {
    "cell_type": "raw",
    "metadata": {
     "collapsed": false
    },
    "source": []
   }
  }
 },
 "nbformat": 4,
 "nbformat_minor": 1
}
